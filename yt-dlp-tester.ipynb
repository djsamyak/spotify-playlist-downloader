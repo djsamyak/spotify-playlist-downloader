{
 "cells": [
  {
   "cell_type": "code",
   "execution_count": 6,
   "id": "f3e36452",
   "metadata": {},
   "outputs": [
    {
     "name": "stdout",
     "output_type": "stream",
     "text": [
      "[youtube] Qzc_aX8c8g4: Downloading webpage\n",
      "[youtube] Qzc_aX8c8g4: Downloading android player API JSON\n",
      "[info] Qzc_aX8c8g4: Downloading 1 format(s): 251\n",
      "[download] Destination: media\\Sasha Alex Sloan - Dancing With Your Ghost (Lyric Video).webm\n",
      "\n",
      "[download]   0.0% of 3.17MiB at 336.16KiB/s ETA 00:09\n",
      "[download]   0.1% of 3.17MiB at 753.20KiB/s ETA 00:04\n",
      "[download]   0.2% of 3.17MiB at  1.72MiB/s ETA 00:01 \n",
      "[download]   0.5% of 3.17MiB at  2.95MiB/s ETA 00:01\n",
      "[download]   1.0% of 3.17MiB at  5.07MiB/s ETA 00:00\n",
      "[download]   1.9% of 3.17MiB at  3.67MiB/s ETA 00:00\n",
      "[download]   3.9% of 3.17MiB at  2.36MiB/s ETA 00:01\n",
      "[download]   7.9% of 3.17MiB at  2.81MiB/s ETA 00:01\n",
      "[download]  15.7% of 3.17MiB at  3.90MiB/s ETA 00:00\n",
      "[download]  31.5% of 3.17MiB at  3.89MiB/s ETA 00:00\n",
      "[download]  63.0% of 3.17MiB at  4.22MiB/s ETA 00:00\n",
      "[download] 100% of 3.17MiB at  4.47MiB/s ETA 00:00  \n",
      "[download] 100% of 3.17MiB in 00:00               \n",
      "[ExtractAudio] Destination: media\\Sasha Alex Sloan - Dancing With Your Ghost (Lyric Video).mp3\n",
      "Deleting original file media\\Sasha Alex Sloan - Dancing With Your Ghost (Lyric Video).webm (pass -k to keep)\n"
     ]
    }
   ],
   "source": [
    "!yt-dlp -f bestaudio --extract-audio --audio-format mp3 --audio-quality 0 --ffmpeg-location \"D:\\Work\\Programming\\spotify-downloader\\ffmpeg-master-latest-win64-gpl\\bin\\ffmpeg.exe\"  -o \"./media/%(title)s.%(ext)s\" https://youtu.be/Qzc_aX8c8g4"
   ]
  },
  {
   "cell_type": "code",
   "execution_count": 30,
   "id": "b7e1c09b",
   "metadata": {
    "scrolled": true
   },
   "outputs": [
    {
     "name": "stdout",
     "output_type": "stream",
     "text": [
      "https://www.youtube.com/watch?v=gVqfezvGvN4\n"
     ]
    }
   ],
   "source": [
    "import urllib.request\n",
    "import re\n",
    "\n",
    "search_keyword=\"mozart\"\n",
    "html = urllib.request.urlopen(\"https://www.youtube.com/results?search_query=It's+Rocking+Pritam+audio\")\n",
    "video_ids = re.findall(r\"watch\\?v=(\\S{11})\", html.read().decode())\n",
    "print(\"https://www.youtube.com/watch?v=\" + video_ids[0])"
   ]
  }
 ],
 "metadata": {
  "kernelspec": {
   "display_name": "Python 3",
   "language": "python",
   "name": "python3"
  },
  "language_info": {
   "codemirror_mode": {
    "name": "ipython",
    "version": 3
   },
   "file_extension": ".py",
   "mimetype": "text/x-python",
   "name": "python",
   "nbconvert_exporter": "python",
   "pygments_lexer": "ipython3",
   "version": "3.8.3"
  }
 },
 "nbformat": 4,
 "nbformat_minor": 5
}
