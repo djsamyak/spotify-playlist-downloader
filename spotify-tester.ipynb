{
 "cells": [
  {
   "cell_type": "code",
   "execution_count": 37,
   "id": "fdfbf9a9",
   "metadata": {
    "scrolled": false
   },
   "outputs": [],
   "source": [
    "import urllib.request\n",
    "import re\n",
    "import spotipy\n",
    "from spotipy.oauth2 import SpotifyClientCredentials\n",
    "\n",
    "playlist_uri = \"spotify:playlist:74fyd8F4UMEzIXF5dlrWbV\"\n",
    "# playlist_uri = 'spotify:playlist:45B4xFw0t7sahrFJvqYLfb'\n",
    "# playlist_uri = '6Gc7eRtrALMXUl3hE0OKfd?si=0b4e2f02975c4234'\n",
    "# playlist_uri = '5z5kiTiHO85L6ERjm32jQ7?si=2582f978e1484627'\n",
    "\n",
    "# spotify = spotipy.Spotify(client_credentials_manager=SpotifyClientCredentials(\"b8cf655bffe2441d9b6fea50458a75cd\",'57aaad2c618d4193868ff5d094fb8cdb'))\n",
    "# playlist_details = spotify.playlist_items(playlist_uri,limit=100)\n",
    "\n",
    "# # print(playlist_details['name'])\n",
    "# playlist_length = playlist_details['total']\n",
    "# print(playlist_length)"
   ]
  },
  {
   "cell_type": "code",
   "execution_count": 35,
   "id": "fdcf1674",
   "metadata": {},
   "outputs": [],
   "source": [
    "offset_counter = 0\n",
    "playlist_tracks = []\n",
    "increment_counter = 0\n",
    "playlist_uri = \"spotify:playlist:74fyd8F4UMEzIXF5dlrWbV\"\n",
    "\n",
    "def load_playlist_data(playlist_subsection_length,playlist_details):\n",
    "    for _ in range(playlist_subsection_length):\n",
    "        track_name = playlist_details['items'][_]['track']['name']\n",
    "        track_artist = playlist_details['items'][_]['track']['artists'][0]['name']\n",
    "        playlist_tracks.append([track_name,track_artist])\n",
    "\n",
    "def get_all_tracks(playlist_uri,offset=0):\n",
    "    spotify = spotipy.Spotify(client_credentials_manager=SpotifyClientCredentials(\"b8cf655bffe2441d9b6fea50458a75cd\",'57aaad2c618d4193868ff5d094fb8cdb'))\n",
    "    playlist_details = spotify.playlist_items(playlist_uri,offset=offset)\n",
    "    playlist_length = playlist_details['total'] - offset\n",
    "    return playlist_length,playlist_details\n",
    "\n",
    "\n",
    "playlist_length,playlist_details = get_all_tracks(playlist_uri)\n",
    "\n",
    "REQUIRED_INCREMENTS = playlist_length // 100\n",
    "\n",
    "if playlist_length > 100:\n",
    "    if offset_counter == 0:\n",
    "        load_playlist_data(100,playlist_details)\n",
    "        offset_counter += 100 \n",
    "        \n",
    "    if offset_counter <= REQUIRED_INCREMENTS * 100:\n",
    "        playlist_length,playlist_details = get_all_tracks(playlist_uri,offset_counter)\n",
    "        load_playlist_data(playlist_length,playlist_details)\n",
    "        offset_counter += 100 \n",
    "else:\n",
    "    load_playlist_data(playlist_length,playlist_details)\n",
    "\n",
    "# print(playlist_tracks)"
   ]
  },
  {
   "cell_type": "code",
   "execution_count": 36,
   "id": "e265b6e8",
   "metadata": {},
   "outputs": [
    {
     "data": {
      "text/plain": [
       "145"
      ]
     },
     "execution_count": 36,
     "metadata": {},
     "output_type": "execute_result"
    }
   ],
   "source": [
    "len(playlist_tracks)"
   ]
  },
  {
   "cell_type": "code",
   "execution_count": 8,
   "id": "17dbf7f0",
   "metadata": {},
   "outputs": [],
   "source": [
    "playlist_tracks = []\n",
    "\n",
    "playlist_length = len(playlist_details['tracks']['items'])\n",
    "\n",
    "for _ in range(playlist_length):\n",
    "    track_name = playlist_details['tracks']['items'][_]['track']['name']\n",
    "    track_artist = playlist_details['tracks']['items'][_]['track']['artists'][0]['name']\n",
    "    playlist_tracks.append([track_name,track_artist])"
   ]
  },
  {
   "cell_type": "code",
   "execution_count": 11,
   "id": "97ee1b0b",
   "metadata": {},
   "outputs": [
    {
     "data": {
      "text/plain": [
       "[\"It's Rocking\", 'Pritam']"
      ]
     },
     "execution_count": 11,
     "metadata": {},
     "output_type": "execute_result"
    }
   ],
   "source": [
    "playlist_tracks[0]"
   ]
  },
  {
   "cell_type": "code",
   "execution_count": 43,
   "id": "afe4da75",
   "metadata": {},
   "outputs": [
    {
     "name": "stdout",
     "output_type": "stream",
     "text": [
      "https://www.youtube.com/watch?v=gVqfezvGvN4\n",
      "https://www.youtube.com/watch?v=1N8akxvrjnM\n",
      "https://www.youtube.com/watch?v=kvBDSquAyu4\n",
      "https://www.youtube.com/watch?v=XG0RVq3ojHo\n",
      "https://www.youtube.com/watch?v=M03GOY5eINg\n",
      "https://www.youtube.com/watch?v=skEX06r9Yn8\n",
      "https://www.youtube.com/watch?v=vPLuRVI-0iQ\n",
      "https://www.youtube.com/watch?v=ElrgLMn6xJM\n",
      "https://www.youtube.com/watch?v=VEVGm-UUJJA\n",
      "https://www.youtube.com/watch?v=KgmeL_xuB0I\n",
      "https://www.youtube.com/watch?v=ryUESj2fIxA\n",
      "https://www.youtube.com/watch?v=jrj8D8k2Z9Y\n",
      "https://www.youtube.com/watch?v=fICbObLgOB8\n",
      "https://www.youtube.com/watch?v=qasynkY1yD8\n",
      "https://www.youtube.com/watch?v=ujb83SbQ-sA\n",
      "https://www.youtube.com/watch?v=RpJfLP5gItA\n",
      "https://www.youtube.com/watch?v=eBjxOqqiky8\n",
      "https://www.youtube.com/watch?v=Zo4WsI14s3g\n",
      "https://www.youtube.com/watch?v=0GQX3GWcUmk\n",
      "https://www.youtube.com/watch?v=FAAO8mmDR2A\n",
      "https://www.youtube.com/watch?v=6Wi63UVYLJI\n",
      "https://www.youtube.com/watch?v=bHP7l56fAe8\n",
      "https://www.youtube.com/watch?v=vgT7in8VlGU\n",
      "https://www.youtube.com/watch?v=sfBBb_2VZuc\n",
      "https://www.youtube.com/watch?v=KBL8aOfDm3A\n",
      "https://www.youtube.com/watch?v=y2HsyzUulDI\n",
      "https://www.youtube.com/watch?v=yYvN4nG8yWk\n",
      "https://www.youtube.com/watch?v=WG6qKDoidmg\n",
      "https://www.youtube.com/watch?v=IYxwFqZhBo4\n",
      "https://www.youtube.com/watch?v=a3sYiZ3cXsc\n",
      "https://www.youtube.com/watch?v=FF4NTQu2UtI\n",
      "https://www.youtube.com/watch?v=kOCrECpkiiA\n",
      "https://www.youtube.com/watch?v=FLz2eQtI_1w\n",
      "https://www.youtube.com/watch?v=JQq_pZxcdwE\n",
      "https://www.youtube.com/watch?v=fICbObLgOB8\n",
      "Mehbooba+Mehbooba+-+From+“Sholay+Songs+And+Dialogues,+Vol.+2”+Soundtrack\n",
      "R.+D.+Burman\n",
      "https://www.youtube.com/watch?v=nfrfUSuFlow\n",
      "https://www.youtube.com/watch?v=VL_xadBJma4\n",
      "https://www.youtube.com/watch?v=koPYhWqpTVk\n",
      "https://www.youtube.com/watch?v=ZcNpSH9MWS4\n",
      "https://www.youtube.com/watch?v=lYsjyjH_8D4\n",
      "https://www.youtube.com/watch?v=ForiHZXjsRU\n",
      "https://www.youtube.com/watch?v=1sHU3QfiSSg\n",
      "https://www.youtube.com/watch?v=eJwZHZhUWAA\n",
      "https://www.youtube.com/watch?v=_Ib__i4jXhE\n",
      "https://www.youtube.com/watch?v=CzfjDac1KfM\n",
      "https://www.youtube.com/watch?v=wAohH3JgonY\n",
      "https://www.youtube.com/watch?v=e34XRjQBrpY\n",
      "https://www.youtube.com/watch?v=03XcUkpcfHU\n",
      "https://www.youtube.com/watch?v=caySD0OJJvk\n",
      "https://www.youtube.com/watch?v=pATsBvjxmVg\n",
      "https://www.youtube.com/watch?v=OAy2cAAZESw\n",
      "https://www.youtube.com/watch?v=Js1OuA_yTJA\n",
      "https://www.youtube.com/watch?v=zlUK41dCaQQ\n",
      "https://www.youtube.com/watch?v=vPrJJBn48d8\n",
      "https://www.youtube.com/watch?v=Sfd0nSnxK3Y\n",
      "https://www.youtube.com/watch?v=5w1shzh5P8c\n",
      "https://www.youtube.com/watch?v=ZcP_bvfqJaw\n",
      "https://www.youtube.com/watch?v=yP9KiFTyBks\n",
      "https://www.youtube.com/watch?v=eXBkFr_s3Bc\n",
      "https://www.youtube.com/watch?v=n8QZoo0ACFA\n",
      "https://www.youtube.com/watch?v=rZN4PIwWHWU\n",
      "https://www.youtube.com/watch?v=6r8r7zpUQQU\n",
      "https://www.youtube.com/watch?v=aPHsp9X2mBE\n",
      "https://www.youtube.com/watch?v=xiX9E7atp_w\n",
      "https://www.youtube.com/watch?v=Pnj_ChMZMic\n",
      "Ainvayi+Ainvayi\n",
      "Salim–Sulaiman\n",
      "https://www.youtube.com/watch?v=xndcrcU5f1Y\n",
      "https://www.youtube.com/watch?v=DqQj56ICTbE\n",
      "https://www.youtube.com/watch?v=Wy43-YD-qcM\n",
      "https://www.youtube.com/watch?v=cpdEhQJbw40\n",
      "https://www.youtube.com/watch?v=hwTyaPkQ1Ls\n",
      "https://www.youtube.com/watch?v=BDCDfz_7GFc\n",
      "https://www.youtube.com/watch?v=mS9J-a5W1Xc\n",
      "https://www.youtube.com/watch?v=vS9mvOjOieA\n",
      "https://www.youtube.com/watch?v=Wahr2mdJsnw\n",
      "https://www.youtube.com/watch?v=zE7Pwgl6sLA\n",
      "https://www.youtube.com/watch?v=RLB93k-kIFk\n",
      "https://www.youtube.com/watch?v=l1xHecvnS_8\n",
      "https://www.youtube.com/watch?v=-RgXgR7F5c8\n",
      "https://www.youtube.com/watch?v=rj4yxDSbQM4\n",
      "https://www.youtube.com/watch?v=e_RS8GO2wTw\n",
      "https://www.youtube.com/watch?v=R1hvAihn5wY\n",
      "https://www.youtube.com/watch?v=K2z4XBjBJVM\n",
      "https://www.youtube.com/watch?v=OTtxPdhvKaA\n",
      "https://www.youtube.com/watch?v=eRUstdqS0gI\n",
      "https://www.youtube.com/watch?v=_P3R63mmakg\n",
      "https://www.youtube.com/watch?v=_Ib__i4jXhE\n",
      "https://www.youtube.com/watch?v=18A1Wbjzeq8\n",
      "https://www.youtube.com/watch?v=3czsakSG3eI\n",
      "https://www.youtube.com/watch?v=FprX-k3C3PE\n",
      "https://www.youtube.com/watch?v=WwYsy4xlZGg\n",
      "https://www.youtube.com/watch?v=wsCaG0tp6aw\n",
      "https://www.youtube.com/watch?v=70HXoBUePoA\n",
      "https://www.youtube.com/watch?v=KxhecZh5HFw\n",
      "https://www.youtube.com/watch?v=Godc832JkQU\n",
      "https://www.youtube.com/watch?v=s9Q8lamKOUE\n",
      "https://www.youtube.com/watch?v=2G78097CAPo\n",
      "https://www.youtube.com/watch?v=ZSb0WuBwrhw\n",
      "https://www.youtube.com/watch?v=Su71Ha0Yg0U\n"
     ]
    }
   ],
   "source": [
    "for track_name,artist_name in playlist_tracks:\n",
    "    try:\n",
    "        search_query1 = \"+\".join(str(track_name).split())\n",
    "        search_query2 = \"+\".join(str(artist_name).split())\n",
    "\n",
    "        html = urllib.request.urlopen(f\"https://www.youtube.com/results?search_query={search_query1}+{search_query2}+lyrics\")\n",
    "        video_ids = re.findall(r\"watch\\?v=(\\S{11})\", html.read().decode())\n",
    "        youtube_video_URL = \"https://www.youtube.com/watch?v=\" + video_ids[0]\n",
    "        print(youtube_video_URL)\n",
    "    except:\n",
    "        print(search_query1)\n",
    "        print(search_query2)"
   ]
  },
  {
   "cell_type": "code",
   "execution_count": null,
   "id": "15b632ca",
   "metadata": {},
   "outputs": [],
   "source": []
  }
 ],
 "metadata": {
  "interpreter": {
   "hash": "3484c91ee776371f7204f739807f4ca9280999c112d8e310dc699ede86a0dfb3"
  },
  "kernelspec": {
   "display_name": "Python 3.8.3 64-bit",
   "language": "python",
   "name": "python3"
  },
  "language_info": {
   "codemirror_mode": {
    "name": "ipython",
    "version": 3
   },
   "file_extension": ".py",
   "mimetype": "text/x-python",
   "name": "python",
   "nbconvert_exporter": "python",
   "pygments_lexer": "ipython3",
   "version": "3.8.3"
  }
 },
 "nbformat": 4,
 "nbformat_minor": 5
}
