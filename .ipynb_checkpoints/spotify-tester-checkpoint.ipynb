{
 "cells": [
  {
   "cell_type": "code",
   "execution_count": 6,
   "id": "47a2b725",
   "metadata": {
    "scrolled": false
   },
   "outputs": [
    {
     "data": {
      "text/plain": [
       "'Ambient Dance'"
      ]
     },
     "execution_count": 6,
     "metadata": {},
     "output_type": "execute_result"
    }
   ],
   "source": [
    "import spotipy\n",
    "from spotipy.oauth2 import SpotifyClientCredentials\n",
    "\n",
    "playlist_uri = '4H4Jy4BvoLTyPGdO0XpOAM?si=afbc981d4318421c'\n",
    "\n",
    "spotify = spotipy.Spotify(client_credentials_manager=SpotifyClientCredentials(\"b8cf655bffe2441d9b6fea50458a75cd\",'57aaad2c618d4193868ff5d094fb8cdb'))\n",
    "playlist_deets = spotify.playlist_items(playlist_uri,limit=100,offset=100)\n",
    "playlist_deets['name']"
   ]
  },
  {
   "cell_type": "code",
   "execution_count": 7,
   "id": "279f6ae9",
   "metadata": {},
   "outputs": [
    {
     "data": {
      "text/plain": [
       "100"
      ]
     },
     "execution_count": 7,
     "metadata": {},
     "output_type": "execute_result"
    }
   ],
   "source": [
    "len(playlist_deets['tracks']['items'])"
   ]
  },
  {
   "cell_type": "code",
   "execution_count": 10,
   "id": "f31e085e",
   "metadata": {},
   "outputs": [
    {
     "data": {
      "text/plain": [
       "'Ik Tera'"
      ]
     },
     "execution_count": 10,
     "metadata": {},
     "output_type": "execute_result"
    }
   ],
   "source": [
    "playlist_deets['tracks']['items'][99]['track']['name']"
   ]
  },
  {
   "cell_type": "code",
   "execution_count": 11,
   "id": "00fb6aa7",
   "metadata": {},
   "outputs": [
    {
     "data": {
      "text/plain": [
       "'Pritam'"
      ]
     },
     "execution_count": 11,
     "metadata": {},
     "output_type": "execute_result"
    }
   ],
   "source": [
    "playlist_deets['tracks']['items'][0]['track']['artists'][0]['name']"
   ]
  },
  {
   "cell_type": "code",
   "execution_count": 15,
   "id": "6fcc78fd",
   "metadata": {},
   "outputs": [],
   "source": [
    "playlist_tracks = []\n",
    "\n",
    "for _ in range(100):\n",
    "    track_name = playlist_deets['tracks']['items'][_]['track']['name']\n",
    "    track_artist = playlist_deets['tracks']['items'][_]['track']['artists'][0]['name']\n",
    "    playlist_tracks.append([track_name,track_artist])"
   ]
  },
  {
   "cell_type": "code",
   "execution_count": 16,
   "id": "9d3fcf7a",
   "metadata": {},
   "outputs": [
    {
     "data": {
      "text/plain": [
       "[[\"It's Rocking\", 'Pritam'],\n",
       " ['Slow Motion Angreza', 'Shankar-Ehsaan-Loy'],\n",
       " ['Soni De Nakhre', 'Wajid'],\n",
       " ['Desi Girl (From \"Dostana\")', 'Vishal-Shekhar'],\n",
       " [\"It's the Time to Disco\", 'Shankar-Ehsaan-Loy'],\n",
       " ['Senorita', 'Farhan Akhtar'],\n",
       " [\"Where's the Party Tonight\", 'Shankar-Ehsaan-Loy'],\n",
       " ['The Breakup Song', 'Pritam'],\n",
       " ['Tu Meri (From \"Bang Bang\")', 'Vishal-Shekhar'],\n",
       " ['Twist (From \"Love Aaj Kal\")', 'Neeraj Shridhar'],\n",
       " ['Nashe Si Chadh Gayi', 'Vishal-Shekhar'],\n",
       " ['Jeene Ke Hain Chaar Din', 'Sonu Nigam'],\n",
       " ['Halka Halka', 'Sunidhi Chauhan'],\n",
       " ['Tum Hi Ho Bandhu (From \"Cocktail\")', 'Neeraj Shridhar'],\n",
       " ['Blame the Night', 'Pritam'],\n",
       " ['Balma', 'Shriram'],\n",
       " ['Hookah Bar', 'Himesh Reshammiya'],\n",
       " ['Buddhu Sa Mann', 'Amaal Mallik'],\n",
       " [\"Let's Nacho\", 'Nucleya'],\n",
       " ['Criminal', 'Akon'],\n",
       " ['Rock N Roll Soniye', 'Shankar-Ehsaan-Loy'],\n",
       " ['Nain (feat. Aastha Gill)', 'Badshah'],\n",
       " ['Right Now', 'Nick Jonas'],\n",
       " ['Sooraj Ki Baahon Mein', 'Dominique Cerejo'],\n",
       " ['Sooraj Dooba Hain', 'Arijit Singh'],\n",
       " ['Ik Vaari Aa', 'Pritam'],\n",
       " ['Zindagi Aa Raha Hoon Main', 'Atif Aslam'],\n",
       " ['Dhunki', 'Sohail Sen'],\n",
       " ['Abcd -Yaariyan', 'Pritam'],\n",
       " ['Desi Kalakaar', 'Yo Yo Honey Singh'],\n",
       " ['Subha Hone Na De', 'Pritam'],\n",
       " ['Maahi Ve', 'Shankar-Ehsaan-Loy'],\n",
       " ['Gallan Goodiyaan', 'Yashita Sharma'],\n",
       " ['Kamariya', 'Aastha Gill'],\n",
       " ['Halka Halka (From \"Fanney Khan\")', 'Sunidhi Chauhan'],\n",
       " ['Mehbooba Mehbooba - From “Sholay Songs And Dialogues, Vol. 2” Soundtrack',\n",
       "  'R. D. Burman'],\n",
       " ['Kamariya', 'Lijo George'],\n",
       " ['Mukhda Vekh Ke (From \"De De Pyaar De\")', 'Mika Singh'],\n",
       " ['Chogada (From \"Loveyatri\")', 'Darshan Raval'],\n",
       " ['High Heels', 'Jaz Dhami'],\n",
       " ['Haaye Oye (feat. Ash King)', 'QARAN'],\n",
       " ['Jaane Kyun', 'Vishal-Shekhar'],\n",
       " ['Kar Gayi Chull', 'Badshah'],\n",
       " ['Badtameez Dil', 'Pritam'],\n",
       " ['Lamberghini', 'The Doorbeen'],\n",
       " ['Jugni', 'Amit Trivedi'],\n",
       " ['Trumpet Flow', 'Sharp Colours'],\n",
       " ['Aankh Marey (From \"Simmba\")', 'Neha Kakkar'],\n",
       " ['Balam Pichkari', 'Pritam'],\n",
       " ['Ghungroo (From \"War\")', 'Vishal-Shekhar'],\n",
       " ['Saturday Saturday', 'Shaarib Toshi'],\n",
       " ['Amplifier', 'Imran Khan'],\n",
       " ['Gal Mitthi Mitthi', 'Amit Trivedi'],\n",
       " ['Chammak Challo', 'Akon'],\n",
       " ['Coca Cola (From \"Luka Chuppi\")', 'Tony Kakkar'],\n",
       " ['Proper Patola', 'Badshah'],\n",
       " ['Suit Suit', 'Guru Randhawa'],\n",
       " ['Bang Bang', 'Vishal-Shekhar'],\n",
       " ['Baby Doll (From \"Ragini Mms 2\")', 'Meet Bros Anjjan'],\n",
       " ['Dil Chori (From \"Sonu Ke Titu Ki Sweety\")', 'Yo Yo Honey Singh'],\n",
       " ['Uff Teri Adaa', 'Shankar Mahadevan'],\n",
       " ['O Gujariya', 'Shefali Alvares'],\n",
       " ['Makhna', 'Tanishk Bagchi'],\n",
       " ['Mauja Hi Mauja', 'Pritam'],\n",
       " ['Kajra Re', 'Shankar'],\n",
       " ['Dilbar (From \"Satyameva Jayate\")', 'Neha Kakkar'],\n",
       " ['Ainvayi Ainvayi', 'Salim–Sulaiman'],\n",
       " ['Dilliwaali Girlfriend', 'Arijit Singh'],\n",
       " ['O Saki Saki (From \"Batla House\")', 'Neha Kakkar'],\n",
       " ['Dil Dhadakne Do', 'Joi Barua'],\n",
       " ['The Wakhra Song', 'Navv Inder'],\n",
       " ['Kaun Nachdi (From \"Sonu Ke Titu Ki Sweety\")', 'Guru Randhawa'],\n",
       " ['Make Some Noise For The Desi Boyz', 'Pritam'],\n",
       " ['Nagada Nagada (From \"Jab We Met\")', 'Sonu Nigam'],\n",
       " ['Munni Badnaam', 'Mamta Sharma'],\n",
       " ['Abhi Toh Party Shuru Hui Hai (From \"Khoobsurat\")', 'Badshah'],\n",
       " ['Fevicol Se', 'Mamta Sharma'],\n",
       " ['Crazy Kiya Re', 'Pritam'],\n",
       " ['London Thumakda (From \"Queen\")', 'Labh Janjua'],\n",
       " ['Bom Diggy Diggy', 'Zack Knight'],\n",
       " ['The Disco Song', 'Vishal-Shekhar'],\n",
       " ['Jee Karr Daa', 'Harrdy Sandhu'],\n",
       " ['Sakhiyaan', 'Maninder Buttar'],\n",
       " ['Laal Bindi', 'Akull'],\n",
       " ['Na Ja', 'Pav Dharia'],\n",
       " ['Backbone', 'Harrdy Sandhu'],\n",
       " ['She Don\\'t Know (From \"Blessed\")', 'Millind Gaba'],\n",
       " ['Lamberghini', 'The Doorbeen'],\n",
       " ['Kya Baat Ay', 'Harrdy Sandhu'],\n",
       " ['Daru Badnaam', 'Param Singh'],\n",
       " ['Jaani Tera Naa', 'Sunanda Sharma'],\n",
       " ['Naah', 'Harrdy Sandhu'],\n",
       " ['Illegal Weapon', 'Garry Sandhu'],\n",
       " ['Label Black', 'Gupz Sehra'],\n",
       " ['Yeh Baby', 'Garry Sandhu'],\n",
       " ['Nikle Currant', 'Jassie Gill'],\n",
       " ['Dil Chori', 'Yo Yo Honey Singh'],\n",
       " ['Ki Kehna (feat. R3HAB)', 'QARAN'],\n",
       " ['8 Parche', 'Baani Sandhu'],\n",
       " ['Ik Tera', 'Maninder Buttar']]"
      ]
     },
     "execution_count": 16,
     "metadata": {},
     "output_type": "execute_result"
    }
   ],
   "source": [
    "playlist_tracks"
   ]
  },
  {
   "cell_type": "code",
   "execution_count": null,
   "id": "121f2810",
   "metadata": {},
   "outputs": [],
   "source": []
  }
 ],
 "metadata": {
  "kernelspec": {
   "display_name": "Python 3",
   "language": "python",
   "name": "python3"
  },
  "language_info": {
   "codemirror_mode": {
    "name": "ipython",
    "version": 3
   },
   "file_extension": ".py",
   "mimetype": "text/x-python",
   "name": "python",
   "nbconvert_exporter": "python",
   "pygments_lexer": "ipython3",
   "version": "3.8.3"
  }
 },
 "nbformat": 4,
 "nbformat_minor": 5
}
